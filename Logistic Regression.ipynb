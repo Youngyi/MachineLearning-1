{
 "cells": [
  {
   "cell_type": "markdown",
   "metadata": {},
   "source": [
    "# 分类和逻辑回归 Classification and Logistic Regression\n",
    "\n",
    "引入科学计算和绘图相关包："
   ]
  },
  {
   "cell_type": "code",
   "execution_count": 1,
   "metadata": {
    "collapsed": false
   },
   "outputs": [],
   "source": [
    "import numpy as np\n",
    "from sklearn import linear_model, datasets\n",
    "\n",
    "import matplotlib.pyplot as plt\n",
    "import seaborn as sns\n",
    "\n",
    "sns.set_style('whitegrid')\n",
    "%matplotlib inline"
   ]
  },
  {
   "cell_type": "markdown",
   "metadata": {},
   "source": [
    "分类和回归的唯一区别在于，分类问题中我们希望预测的目标变量 $y$ 只会取少数几个离散值。本节我们将主要关注 **二元分类 binary classification**问题，$y$ 在二元分类中只会取 $0, 1$ 两个值。$0$ 也被称为**反类 negative class**，$1$ 也被称为**正类 positive class**，它们有时也使用符号 $-, +$ 来标识。给定 $x^{(i)}$，对应的 $y^{(i)}$ 也被称为训练样本的**标签 label**。\n",
    "\n",
    "本节包括以下内容：\n",
    "\n",
    "1. 逻辑回归 Logistic regression\n",
    "2. 感知器 The perceptron learning algorithm\n",
    "3. 牛顿法：最大化 $\\ell(\\theta)$ 的另一种算法 Newton's Method: Another algorithm for maximizing $\\ell(\\theta)$\n",
    "4. 使用逻辑回归识别手写数字 Recognizing hand-written digits with Logistic Regression"
   ]
  },
  {
   "cell_type": "markdown",
   "metadata": {},
   "source": [
    "## 1. 逻辑回归 Logistic Regression\n",
    "\n",
    "在逻辑回归中，我们的假设函数 $h_\\theta(x)$ 的形式为：\n",
    "$$ h_\\theta(x) = g(\\theta^Tx) = \\frac{1}{1+e^{-\\theta^Tx}}, $$\n",
    "其中\n",
    "$$ g(z) = \\frac{1}{1+e^{-z}} $$\n",
    "被称为**logistic函数**或**sigmoid函数**，$g(z)$ 的形式如下："
   ]
  },
  {
   "cell_type": "code",
   "execution_count": 2,
   "metadata": {
    "collapsed": false
   },
   "outputs": [
    {
     "data": {
      "image/png": "[encoded data removed]",
      "text/plain": [
       "<matplotlib.figure.Figure at 0x7fcf0d4d7400>"
      ]
     },
     "metadata": {},
     "output_type": "display_data"
    }
   ],
   "source": [
    "x = np.arange(-10., 10., 0.2)\n",
    "y = 1 / (1 + np.e ** (-x))\n",
    "plt.plot(x, y)\n",
    "plt.title(' Logistic Function ')\n",
    "plt.show()"
   ]
  },
  {
   "cell_type": "markdown",
   "metadata": {},
   "source": [
    "当 $z \\rightarrow \\infty$ 时，$g(z) \\rightarrow 1$；当 $z \\rightarrow -\\infty$ 时，$g(z) \\rightarrow 0$；$g(z)$ 的值域为 $(0, 1)$。我们保留令 $x_0 = 1$ 的习惯，$\\theta^Tx = \\theta_0 + \\sum_{j=1}^n \\theta_jx_j$。\n",
    "\n",
    "之后在讲广义线性模型时，我们会介绍sigmoid函数的由来。暂时我们只是将其作为给定条件。sigmoid函数的导数有一个十分有用的性质\n",
    "$$\n",
    "\\begin{split}\n",
    "g'(z) &= \\frac{d}{dz}\\frac{1}{1+e^{-z}} \\\\\n",
    "&= \\frac{1}{(1+e^{-z})^2}e^{-z} \\\\\n",
    "&= \\frac{1}{(1+e^{-z})} \\cdot (1 - \\frac{1}{(1+e^{-z})}) \\\\\n",
    "&= g(z) \\cdot (1-g(z))\n",
    "\\end{split}\n",
    "$$\n",
    "\n",
    "在线性回归的概率诠释中，根据一定的假设，我们通过最大似然估计法计算 $\\theta$。类似地，在逻辑回归中，我们也采用同样的策略，假设：\n",
    "$$ P(y=1|x;\\theta) = h_\\theta(x) $$\n",
    "$$ P(y=0|x;\\theta) = 1 - h_\\theta(x) $$\n",
    "这两个假设可以合并为：\n",
    "$$ P(y|x;\\theta) = (h_\\theta(x))^y(1-h_\\theta(x))^{1-y} $$\n",
    "\n",
    "继续假设 $m$ 个训练样本相互独立，似然函数因此可以写成：\n",
    "$$\n",
    "\\begin{split}\n",
    "L(\\theta) & = p(y|X; \\theta) \\\\\n",
    "& = \\prod_{i=1}^{m} p(y^{(i)}|x^{(i)}; \\theta) \\\\\n",
    "& = \\prod_{i=1}^{m} (h_\\theta(x^{(i)}))^{y^{(i)}}(1-h_\\theta(x^{(i)}))^{1-y^{(i)}}\n",
    "\\end{split}\n",
    "$$\n",
    "\n",
    "相应的对数似然函数可以写成：\n",
    "$$\n",
    "\\begin{split}\n",
    "\\ell(\\theta) &= logL(\\theta) \\\\\n",
    "&= \\sum_{i=1}^m (y^{(i)}logh(x^{(i)})+(1-y^{(i)})log(1-h(x^{(i)})))\n",
    "\\end{split}\n",
    "$$\n",
    "\n",
    "为了求解对数似然函数的最大值，我们可以采用梯度上升的算法 $\\theta = \\theta + \\alpha\\nabla_\\theta\\ell(\\theta)$，其中偏导为：\n",
    "$$\n",
    "\\begin{split}\n",
    "\\frac{\\partial}{\\partial\\theta_j}\\ell(\\theta) &= \\sum(y\\frac{1}{g(\\theta^Tx)} - (1-y)\\frac{1}{1-g(\\theta^Tx)})\\frac{\\partial}{\\partial\\theta_j}g(\\theta^Tx) \\\\\n",
    "&= \\sum(y\\frac{1}{g(\\theta^Tx)} - (1-y)\\frac{1}{1-g(\\theta^Tx)})g(\\theta^Tx)(1-g(\\theta^Tx))\\frac{\\partial}{\\partial\\theta_j}\\theta^Tx \\\\\n",
    "&= \\sum(y(1-g(\\theta^Tx)-(1-y)g(\\theta^Tx))x_j \\\\\n",
    "&= \\sum(y-h_\\theta(x))x_j\n",
    "\\end{split}\n",
    "$$\n",
    "\n",
    "而对于每次迭代只使用单个样本的随机梯度上升算法而言:\n",
    "$$ \\theta_j = \\theta_j + \\alpha(y^{(i)}-h_\\theta(x^{(i)}))x^{(i)}_j = \\theta_j - \\alpha(h_\\theta(x^{(i)}) - y^{(i)})x_j^{(i)}$$\n",
    "\n",
    "可以看到，除去假设函数 $h_\\theta(x)$ 本身不同之外，逻辑回归和线性回归的梯度更新是十分类似的。广义线性模型将会解释这里的“巧合”。"
   ]
  },
  {
   "cell_type": "markdown",
   "metadata": {
    "collapsed": true
   },
   "source": [
    "## 2. 感知器 The Perceptron Learning Algorithm\n",
    "\n",
    "在逻辑回归中，我们通过sigmoid函数，使得最终的目标变量落在 $(0, 1)$ 的区间内，并假设目标变量的值就是其为正类的概率。\n",
    "\n",
    "设想我们使目前变量严格地取 $0$ 或 $1$:\n",
    "$$ g(z) =\\left\\{\n",
    "\\begin{aligned}\n",
    "1 & , z \\geq 0 \\\\\n",
    "0 & , z < 0\n",
    "\\end{aligned}\n",
    "\\right.\n",
    "$$\n",
    "\n",
    "和之前一样，我们令 $h_\\theta(x) = g(\\theta^Tx)$，并根据以下规则更新：\n",
    "$$ \\theta_j = \\theta_j + \\alpha(y^{(i)} - h_\\theta(x^{(i)}))x_j^{(i)} $$\n",
    "这个算法被称为**感知器学习算法 perceptron learning algorithm**。\n",
    "\n",
    "感知器在上世纪60年代一直被视作大脑中单个神经元的粗略模拟。但注意，尽管感知器和逻辑回归的形式非常相似，但由于 $g(z)$ 无法使用概率假设来描述，因而也无法使用最大似然估计法进行参数估计。实际上感知器和线性模型是完全不同的算法类型，它是神经网络算法的起源，之后我们会回到这个话题。"
   ]
  },
  {
   "cell_type": "markdown",
   "metadata": {},
   "source": [
    "## 3. 牛顿法：最大化 $\\ell(\\theta)$ 的另一种算法 Newton's Method: Another algorithm for maximizing $\\ell(\\theta)$\n",
    "\n",
    "回到逻辑回归，为了求解其对数似然函数的最大值，除了梯度上升算法外，这里介绍通过牛顿法进行求解。\n",
    "\n",
    "牛顿法主要用来求解方程的根。设想有一个函数 $f: \\mathbb{R} \\rightarrow \\mathbb{R}$，我们希望找到一个值 $\\theta$ 使得 $f(\\theta)=0$。牛顿法的迭代过程如下：\n",
    "$$ \\theta = \\theta - \\frac{f(\\theta)}{f'(\\theta)} $$"
   ]
  },
  {
   "cell_type": "code",
   "execution_count": 3,
   "metadata": {
    "collapsed": false
   },
   "outputs": [
    {
     "data": {
      "image/png": "[encoded data removed]",
      "text/plain": [
       "<matplotlib.figure.Figure at 0x7fcf09cebda0>"
      ]
     },
     "metadata": {},
     "output_type": "display_data"
    }
   ],
   "source": [
    "f = lambda x: x ** 2\n",
    "f_prime = lambda x: 2 * x\n",
    "improve_x = lambda x: x - f(x) / f_prime(x)\n",
    "\n",
    "x = np.arange(0, 3, 0.2)\n",
    "x0 = 2\n",
    "tangent0 = lambda x: f_prime(x0) * (x - x0) + f(x0)\n",
    "x1 = improve_x(x0)\n",
    "tangent1 = lambda x: f_prime(x1) * (x - x1) + f(x1)\n",
    "\n",
    "plt.plot(x, f(x), label=\"y=x^2\")\n",
    "plt.plot(x, np.zeros_like(x), label=\"x axis\")\n",
    "plt.plot(x, tangent0(x), label=\"y=4x-4\")\n",
    "plt.plot(x, tangent1(x), label=\"y=2x-1\")\n",
    "plt.legend(loc=\"best\")\n",
    "plt.show()"
   ]
  },
  {
   "cell_type": "markdown",
   "metadata": {},
   "source": [
    "牛顿法的迭代过程可以非常直观地用上图解释，我们需要求解 $y = x^2$ 的根，函数如蓝线所示。假设我们设置的初始点 $x_0 = 2$，对这个点求导做切线，如绿线所示，绿线和 $x$ 轴的交点就是我们第一轮迭代的结果 $x_1 = 1$。继续这个过程，得到切线用红色表示，红线与 $x$ 轴为第二轮迭代结果 $x_2 = 0.5$。重复迭代可以到达 $x=0$；\n",
    "\n",
    "对于我们的对数似然函数来说，要求解其最大值，也就是要求解 $\\ell'(\\theta) = 0$：\n",
    "$$ \\theta = \\theta - \\frac{\\ell'(\\theta)}{\\ell''(\\theta)} $$\n",
    "\n",
    "注意这里的充要关系，在最大值点一阶导数必然为0，反之则未必，所以我们求解的，实际上也可能是局部/全局最小值点，或者鞍点。\n",
    "\n",
    "最后，在逻辑回归中，$\\theta$ 是一个向量，所以我们需要据此扩展牛顿法。牛顿法在高维空间中的，也称为**牛顿-拉弗森法 Newton-Raphson method**:\n",
    "$$ \\theta = \\theta - H^{-1}\\nabla_\\theta\\ell(\\theta) $$\n",
    "\n",
    "这里，$\\nabla_\\theta\\ell(\\theta)$ 是 $\\ell(\\theta)$ 针对向量 $\\theta$ 的偏导。$H$ 是一个 $n \\times n$ 的矩阵（加上截距项，实际是 $n+1 \\times n+1$），称为**海森矩阵 Hessian Matrix**：\n",
    "$$ H_{ij} = \\frac{\\partial^2\\ell(\\theta)}{\\partial\\theta_i\\partial\\theta_j} $$\n",
    "\n",
    "通常牛顿法会比（批量）梯度下降在更短的迭代次数内收敛。同时，一次牛顿法迭代过程，由于要对海森矩阵求逆，会比梯度下降的一次迭代慢。只要 $n$ 的值不至于过大，牛顿法总的来说会比梯度下降收敛快得多。\n",
    "\n",
    "应用牛顿法解最大似然函数，也被称为**费舍尔评分 Fisher's scoring**。"
   ]
  },
  {
   "cell_type": "markdown",
   "metadata": {},
   "source": [
    "## 4. 使用逻辑回归识别手写数字 Recognizing hand-written digits with Logistic Regression\n",
    "\n",
    "下面我们将使用scikit-learn提供的逻辑回归模型，来识别手写数字。数据集来自[\n",
    "Pen-Based Recognition of Handwritten Digits Data Set](http://archive.ics.uci.edu/ml/datasets/Pen-Based+Recognition+of+Handwritten+Digits)，scikit-learn中内置包含该数据。digits.images包含了每个训练样本以 $8 \\times 8$ 矩阵保存的图片各像素灰度值，digits.target标识了其真实的结果数字，可视化效果如下："
   ]
  },
  {
   "cell_type": "code",
   "execution_count": 4,
   "metadata": {
    "collapsed": false
   },
   "outputs": [
    {
     "data": {
      "image/png": "[encoded data removed]",
      "text/plain": [
       "<matplotlib.figure.Figure at 0x7fcf09c6cf60>"
      ]
     },
     "metadata": {},
     "output_type": "display_data"
    }
   ],
   "source": [
    "digits = datasets.load_digits()\n",
    "\n",
    "images_and_labels = list(zip(digits.images, digits.target))\n",
    "n_records = 12\n",
    "n_rows = 3\n",
    "for index, (image, label) in enumerate(images_and_labels[:n_records]):\n",
    "    plt.subplot(n_rows, np.ceil(n_records / n_rows), index + 1)\n",
    "    plt.axis('off')\n",
    "    plt.imshow(image, cmap=plt.cm.gray_r, interpolation='nearest')\n",
    "    plt.title('Training: %i' % label)\n",
    "plt.show()\n"
   ]
  },
  {
   "cell_type": "markdown",
   "metadata": {},
   "source": [
    "将数据集合的前90%用于训练模型，后10%用于测试。调用逻辑回归模型后，在测试集上的准确率如下："
   ]
  },
  {
   "cell_type": "code",
   "execution_count": 5,
   "metadata": {
    "collapsed": false
   },
   "outputs": [
    {
     "name": "stdout",
     "output_type": "stream",
     "text": [
      "LogisticRegression score: 0.938889\n"
     ]
    }
   ],
   "source": [
    "X_digits = digits.data\n",
    "y_digits = digits.target\n",
    "\n",
    "n_samples = len(X_digits)\n",
    "\n",
    "X_train = X_digits[:int(.9 * n_samples)]\n",
    "y_train = y_digits[:int(.9 * n_samples)]\n",
    "X_test = X_digits[int(.9 * n_samples):]\n",
    "y_test = y_digits[int(.9 * n_samples):]\n",
    "\n",
    "logistic = linear_model.LogisticRegression()\n",
    "logistic.fit(X_train, y_train)\n",
    "print('LogisticRegression score: %f' % logistic.score(X_test, y_test))\n"
   ]
  },
  {
   "cell_type": "markdown",
   "metadata": {},
   "source": [
    "测试集的可视化效果如下："
   ]
  },
  {
   "cell_type": "code",
   "execution_count": 6,
   "metadata": {
    "collapsed": false
   },
   "outputs": [
    {
     "data": {
      "image/png": "[encoded data removed]",
      "text/plain": [
       "<matplotlib.figure.Figure at 0x7fcf09c65ba8>"
      ]
     },
     "metadata": {},
     "output_type": "display_data"
    }
   ],
   "source": [
    "y_test_pred = logistic.predict(X_test)\n",
    "\n",
    "n_records = 12\n",
    "n_rows = 3\n",
    "images_and_predictions = list(zip(X_test, y_test_pred, y_test))\n",
    "for index, (image, prediction, fact) in enumerate(images_and_predictions[:n_records]):\n",
    "    plt.subplot(n_rows, np.ceil(n_records / n_rows), index + 1)\n",
    "    plt.axis('off')\n",
    "    plt.imshow(image.reshape(8,8), cmap=plt.cm.gray_r, interpolation='nearest')\n",
    "    plt.title('Pred:%i; Fact:%i' % (prediction, fact))\n",
    "\n",
    "plt.show()"
   ]
  },
  {
   "cell_type": "markdown",
   "metadata": {},
   "source": [
    "可以看到，在前12各测试样本中，除去最后一个预测错误外，其它的均正确。\n",
    "\n",
    "## 参考资料\n",
    "\n",
    "1. [cs229-notes1](https://see.stanford.edu/materials/aimlcs229/cs229-notes1.pdf)\n",
    "2. [Scikit Learn Document](http://scikit-learn.org/stable/documentation.html)"
   ]
  },
  {
   "cell_type": "code",
   "execution_count": null,
   "metadata": {
    "collapsed": true
   },
   "outputs": [],
   "source": []
  }
 ],
 "metadata": {
  "anaconda-cloud": {},
  "kernelspec": {
   "display_name": "Python [conda root]",
   "language": "python",
   "name": "conda-root-py"
  },
  "language_info": {
   "codemirror_mode": {
    "name": "ipython",
    "version": 3
   },
   "file_extension": ".py",
   "mimetype": "text/x-python",
   "name": "python",
   "nbconvert_exporter": "python",
   "pygments_lexer": "ipython3",
   "version": "3.5.2"
  }
 },
 "nbformat": 4,
 "nbformat_minor": 1
}
