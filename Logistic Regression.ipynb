{
 "cells": [
  {
   "cell_type": "markdown",
   "metadata": {},
   "source": [
    "# 分类和逻辑回归 Classification and Logistic Regression\n",
    "\n",
    "引入科学计算和绘图相关包："
   ]
  },
  {
   "cell_type": "code",
   "execution_count": 1,
   "metadata": {
    "collapsed": true
   },
   "outputs": [],
   "source": [
    "import numpy as np\n",
    "\n",
    "import matplotlib.pyplot as plt"
   ]
  },
  {
   "cell_type": "markdown",
   "metadata": {},
   "source": [
    "分类和回归的唯一区别在于，分类问题中我们希望预测的目标变量 $y$ 只会取少数几个离散值。本节我们将主要关注 **二元分类 binary classification**问题，$y$ 在二元分类中只会取 $0, 1$ 两个值。$0$ 也被称为**反类 negative class**，$1$ 也被称为**正类 positive class**，它们有时也使用符号 $-, +$ 来标识。给定 $x^{(i)}$，对应的 $y^{(i)}$ 也被称为训练样本的**标签 label**。\n",
    "\n",
    "本节包括以下内容：\n",
    "\n",
    "1. 逻辑回归 Logistic regression\n",
    "2. 感知器 The perceptron learning algorithm\n",
    "3. 牛顿法：最大化 $\\ell(\\theta)$ 的另一种算法 Newton's Method: Another algorithm for maximizing $\\ell(\\theta)$"
   ]
  },
  {
   "cell_type": "markdown",
   "metadata": {},
   "source": [
    "## 1. 逻辑回归 Logistic Regression\n",
    "\n",
    "在逻辑回归中，我们的假设函数 $h_\\theta(x)$ 的形式为：\n",
    "$$ h_\\theta(x) = g(\\theta^Tx) = \\frac{1}{1+e^{-\\theta^Tx}}, $$\n",
    "其中\n",
    "$$ g(z) = \\frac{1}{1+e^{-z}} $$\n",
    "被称为**logistic函数**或**sigmoid函数**，$g(z)$ 的形式如下："
   ]
  },
  {
   "cell_type": "code",
   "execution_count": 2,
   "metadata": {
    "collapsed": false
   },
   "outputs": [
    {
     "data": {
      "image/png": "[encoded data removed]",
      "text/plain": [
       "<matplotlib.figure.Figure at 0x7fb8735f21d0>"
      ]
     },
     "metadata": {},
     "output_type": "display_data"
    }
   ],
   "source": [
    "x = np.arange(-10., 10., 0.2)\n",
    "y = 1 / (1 + np.e ** (-x))\n",
    "plt.plot(x, y)\n",
    "plt.show()"
   ]
  },
  {
   "cell_type": "markdown",
   "metadata": {},
   "source": [
    "当 $z \\rightarrow \\infty$ 时，$g(z) \\rightarrow 1$；当 $z \\rightarrow -\\infty$ 时，$g(z) \\rightarrow 0$；$g(z)$ 的值域为 $(0, 1)$。我们保留令 $x_0 = 1$ 的习惯，$\\theta^Tx = \\theta_0 + \\sum_{j=1}^n \\theta_jx_j$。\n",
    "\n",
    "之后在讲广义线性模型时，我们会介绍sigmoid函数的由来。暂时我们只是将其作为给定条件。sigmoid函数的导数有一个十分有用的性质\n",
    "$$\n",
    "\\begin{split}\n",
    "g'(z) &= \\frac{d}{dz}\\frac{1}{1+e^{-z}} \\\\\n",
    "&= \\frac{1}{(1+e^{-z})^2}e^{-z} \\\\\n",
    "&= \\frac{1}{(1+e^{-z})} \\cdot (1 - \\frac{1}{(1+e^{-z})}) \\\\\n",
    "&= g(z) \\cdot (1-g(z))\n",
    "\\end{split}\n",
    "$$\n",
    "\n",
    "在线性回归的概率诠释中，根据一定的假设，我们通过最大似然估计法计算 $\\theta$。类似地，在逻辑回归中，我们也采用同样的策略，假设：\n",
    "$$ P(y=1|x;\\theta) = h_\\theta(x) $$\n",
    "$$ P(y=0|x;\\theta) = 1 - h_\\theta(x) $$\n",
    "这两个假设可以合并为：\n",
    "$$ P(y|x;\\theta) = (h_\\theta(x))^y(1-h_\\theta(x))^{1-y} $$\n",
    "\n",
    "继续假设 $m$ 个训练样本相互独立，似然函数因此可以写成：\n",
    "$$\n",
    "\\begin{split}\n",
    "L(\\theta) & = p(y|X; \\theta) \\\\\n",
    "& = \\prod_{i=1}^{m} p(y^{(i)}|x^{(i)}; \\theta) \\\\\n",
    "& = \\prod_{i=1}^{m} (h_\\theta(x^{(i)}))^{y^{(i)}}(1-h_\\theta(x^{(i)}))^{1-y^{(i)}}\n",
    "\\end{split}\n",
    "$$\n",
    "\n",
    "相应的对数似然函数可以写成：\n",
    "$$\n",
    "\\begin{split}\n",
    "\\ell(\\theta) &= logL(\\theta) \\\\\n",
    "&= \\sum_{i=1}^m (y^{(i)}logh(x^{(i)})+(1-y^{(i)})log(1-h(x^{(i)})))\n",
    "\\end{split}\n",
    "$$\n",
    "\n",
    "为了求解对数似然函数的最大值，我们可以采用梯度上升的算法 $\\theta = \\theta + \\alpha\\nabla_\\theta\\ell(\\theta)$，其中偏导为：\n",
    "$$\n",
    "\\begin{split}\n",
    "\\frac{\\partial}{\\partial\\theta_j}\\ell(\\theta) &= \\sum(y\\frac{1}{g(\\theta^Tx)} - (1-y)\\frac{1}{1-g(\\theta^Tx)})\\frac{\\partial}{\\partial\\theta_j}g(\\theta^Tx) \\\\\n",
    "&= \\sum(y\\frac{1}{g(\\theta^Tx)} - (1-y)\\frac{1}{1-g(\\theta^Tx)})g(\\theta^Tx)(1-g(\\theta^Tx))\\frac{\\partial}{\\partial\\theta_j}\\theta^Tx \\\\\n",
    "&= \\sum(y(1-g(\\theta^Tx)-(1-y)g(\\theta^Tx))x_j \\\\\n",
    "&= \\sum(y-h_\\theta(x))x_j\n",
    "\\end{split}\n",
    "$$\n",
    "\n",
    "而对于每次迭代只使用单个样本的随机梯度上升算法而言:\n",
    "$$ \\theta_j = \\theta_j + \\alpha(y^{(i)}-h_\\theta(x^{(i)}))x^{(i)}_j = \\theta_j - \\alpha(h_\\theta(x^{(i)}) - y^{(i)})x_j^{(i)}$$\n",
    "\n",
    "可以看到，除去假设函数 $h_\\theta(x)$ 本身不同之外，逻辑回归和线性回归的梯度更新是十分类似的。广义线性模型将会解释这里的“巧合”。"
   ]
  },
  {
   "cell_type": "markdown",
   "metadata": {
    "collapsed": true
   },
   "source": [
    "## 2. 感知器 The Perceptron Learning Algorithm\n",
    "\n",
    "在逻辑回归中，我们通过sigmoid函数，使得最终的目标变量落在 $(0, 1)$ 的区间内，并假设目标变量的值就是其为正类的概率。\n",
    "\n",
    "设想我们使目前变量严格地取 $0$ 或 $1$:\n",
    "$$ g(z) =\\left\\{\n",
    "\\begin{aligned}\n",
    "1 & , z \\geq 0 \\\\\n",
    "0 & , z < 0\n",
    "\\end{aligned}\n",
    "\\right.\n",
    "$$\n",
    "\n",
    "和之前一样，我们令 $h_\\theta(x) = g(\\theta^Tx)$，并根据以下规则更新：\n",
    "$$ \\theta_j = \\theta_j + \\alpha(y^{(i)} - h_\\theta(x^{(i)}))x_j^{(i)} $$\n",
    "这个算法被称为**感知器学习算法 perceptron learning algorithm**。\n",
    "\n",
    "感知器在上世纪60年代一直被视作大脑中单个神经元的粗略模拟。但注意，尽管感知器和逻辑回归的形式非常相似，但由于 $g(z)$ 无法使用概率假设来描述，因为也无法使用最大似然估计法进行参数估计，实际上感知器和线性模型是完全不同的算法类型。之后我们会回到这个话题。"
   ]
  },
  {
   "cell_type": "markdown",
   "metadata": {},
   "source": [
    "## 3. 牛顿法：最大化 $\\ell(\\theta)$ 的另一种算法 Newton's Method: Another algorithm for maximizing $\\ell(\\theta)$\n",
    "\n",
    "TODO"
   ]
  }
 ],
 "metadata": {
  "anaconda-cloud": {},
  "kernelspec": {
   "display_name": "Python [conda root]",
   "language": "python",
   "name": "conda-root-py"
  },
  "language_info": {
   "codemirror_mode": {
    "name": "ipython",
    "version": 3
   },
   "file_extension": ".py",
   "mimetype": "text/x-python",
   "name": "python",
   "nbconvert_exporter": "python",
   "pygments_lexer": "ipython3",
   "version": "3.5.2"
  }
 },
 "nbformat": 4,
 "nbformat_minor": 1
}
