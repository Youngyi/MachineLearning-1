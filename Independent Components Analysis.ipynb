{
 "cells": [
  {
   "cell_type": "markdown",
   "metadata": {},
   "source": [
    "# 独立成分分析 Independent Components Analysis"
   ]
  },
  {
   "cell_type": "markdown",
   "metadata": {},
   "source": [
    "独立成分分析也像主成分分析一样，希望找到全新的展示数据的方法，但两者的目标是截然不同的。\n",
    "\n",
    "作为一个启发性的例子，考虑“鸡尾酒会问题”。在一场聚会中，$n$ 位讲话人同时发表讲话，房间中的任意一个麦克风，都会同时记录下 $n$ 位讲话人混合的录音。假定在房间里同时也有 $n$ 个麦克风，由于每个麦克风所处的位置不同，距离各个演讲者的距离也就各不相同，它们分别记录下了所有讲话人的不同声音组合。那么仅使用麦克风的录音，可否回复原始 $n$ 位演讲人各自的讲话内容？\n",
    "\n",
    "更正式地表述此问题，假设某数据 $s \\in \\mathbb{R}^n$ 是由 $n$ 个独立来源产生的，而我们观测到的结果是\n",
    "$$ x=As $$\n",
    "其中 $A$ 是被称为**混合矩阵 mixing matrix**的位置方阵，重复的观测给到我们数据集 $\\{x^{(i)};i=1,\\cdots,m\\}$，而我们的目标是恢复生产数据 $x^{(i)}=As^{(i)}$ 的数据源 $s^{(i)}$。\n",
    "\n",
    "在鸡尾酒会问题中，$s^{(i)}$ 是 $n$ 维向量，其中 $s^{(i)}_j$ 是第 $j$ 位演讲人在时间 $i$ 发出的声音。同时，$x^{(i)}$ 是一个 $n$ 维向量，$x^{(i)}_j$ 是录音机 $j$ 在时间 $i$ 记录下来的声音。\n",
    "\n",
    "令 $W=A^{-1}$ 表示**逆混合矩阵 unmixing matrix**。我们的目标是找到 $W$ 使得给定麦克风的录音 $x^{(i)}$，通过计算 $s^{(i)}=Wx^{(i)}$ 可以恢复每位演讲人的演讲内容。\n",
    "\n",
    "为了记录方便，令 $w_i^T$ 表示 $W$ 的第 $i$ 行，有\n",
    "$$\n",
    "W = \\begin{bmatrix}\n",
    "-w_1^T-\\\\\n",
    "\\vdots \\\\\n",
    "-w_n^T-\\\\\n",
    "\\end{bmatrix}\n",
    "$$\n",
    "从而，$w_i \\in \\mathbb{R}^n$，第 $j$ 个演讲人的内容为 $s_j^{(i)}=w_j^Tx^{(i)}$"
   ]
  },
  {
   "cell_type": "markdown",
   "metadata": {},
   "source": [
    "### 1. 独立成分分析的不确定性 ICA ambiguities\n",
    "\n",
    "由于 $w$ 和 $s$ 都不确定，那么在没有先验知识的情况下，无法同时确定这两个相关参数。但我们依然可以获得关于二者之间的关系，而不确定性在鸡尾酒会问题中，并不影响结果。\n",
    "\n",
    "具体来看，独立成分分析无法确定下 $w$ 和 $s$ 的缩放值，一方增大而另一方缩小同样的倍数，之前的等式依然成立。但对鸡尾酒会来说，缩放只改变声音的音量。\n",
    "\n",
    "另一个独立成分分析不确定性的情况，是当输入源服从高斯分布的时候。高斯分布的概率密度轮廓图是旋转对称的，而鸡尾酒会这样的数据并非高斯分布。"
   ]
  },
  {
   "cell_type": "markdown",
   "metadata": {},
   "source": [
    "### 2. 密度和线性变换 Densities and Linear Transformations\n",
    "\n",
    "略"
   ]
  },
  {
   "cell_type": "markdown",
   "metadata": {},
   "source": [
    "### 3. 独立成分分析算法 ICA algorithm\n",
    "略"
   ]
  },
  {
   "cell_type": "code",
   "execution_count": null,
   "metadata": {},
   "outputs": [],
   "source": []
  }
 ],
 "metadata": {
  "kernelspec": {
   "display_name": "Python 3",
   "language": "python",
   "name": "python3"
  },
  "language_info": {
   "codemirror_mode": {
    "name": "ipython",
    "version": 3
   },
   "file_extension": ".py",
   "mimetype": "text/x-python",
   "name": "python",
   "nbconvert_exporter": "python",
   "pygments_lexer": "ipython3",
   "version": "3.6.3"
  }
 },
 "nbformat": 4,
 "nbformat_minor": 2
}
