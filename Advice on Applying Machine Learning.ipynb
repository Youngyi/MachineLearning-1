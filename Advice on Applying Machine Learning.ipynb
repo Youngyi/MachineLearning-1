{
 "cells": [
  {
   "cell_type": "markdown",
   "metadata": {},
   "source": [
    "# 应用机器学习 Advice on Applying Machine Learning\n",
    "\n",
    "本节包含以下内容：\n",
    "\n",
    "1. 诊断学习算法 Diagnostics for debugging learning algorithms\n",
    "2. 错误分析 Error analyses and ablative analysis\n",
    "3. 如何开展机器学习 How to get started on a machine learning problem"
   ]
  },
  {
   "cell_type": "markdown",
   "metadata": {},
   "source": []
  }
 ],
 "metadata": {
  "kernelspec": {
   "display_name": "Python 3",
   "language": "python",
   "name": "python3"
  },
  "language_info": {
   "codemirror_mode": {
    "name": "ipython",
    "version": 3
   },
   "file_extension": ".py",
   "mimetype": "text/x-python",
   "name": "python",
   "nbconvert_exporter": "python",
   "pygments_lexer": "ipython3",
   "version": "3.6.1"
  }
 },
 "nbformat": 4,
 "nbformat_minor": 2
}
