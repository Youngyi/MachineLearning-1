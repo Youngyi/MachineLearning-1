{
 "cells": [
  {
   "cell_type": "markdown",
   "metadata": {},
   "source": [
    "# 应用机器学习 Advice on Applying Machine Learning\n",
    "\n",
    "以下内容包含如何在实际项目中应用机器学习算法的一些建议，相关内容涉及的数学有限，但依然是机器学习中最难以理解的问题。下面的一些建议可能有争议，部分建议可能仅适用于项目中，并不是机器学习研究的好策略。\n",
    "\n",
    "本节包含以下内容：\n",
    "\n",
    "1. 诊断学习算法 Diagnostics for debugging learning algorithms\n",
    "2. 错误分析 Error analyses and ablative analysis\n",
    "3. 如何开展机器学习 How to get started on a machine learning problem"
   ]
  },
  {
   "cell_type": "markdown",
   "metadata": {},
   "source": []
  }
 ],
 "metadata": {
  "kernelspec": {
   "display_name": "Python 3",
   "language": "python",
   "name": "python3"
  },
  "language_info": {
   "codemirror_mode": {
    "name": "ipython",
    "version": 3
   },
   "file_extension": ".py",
   "mimetype": "text/x-python",
   "name": "python",
   "nbconvert_exporter": "python",
   "pygments_lexer": "ipython3",
   "version": "3.6.1"
  }
 },
 "nbformat": 4,
 "nbformat_minor": 2
}
