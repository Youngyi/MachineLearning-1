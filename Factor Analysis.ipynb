{
 "cells": [
  {
   "cell_type": "markdown",
   "metadata": {},
   "source": [
    "# 因子分析 Factor Analysis\n",
    "\n",
    "本节包含以下内容：\n",
    "1. $\\Sigma$ 的约束 Restrictions of $\\Sigma$\n",
    "2. 高斯分布的边缘分布和条件分布 Marginals and conditionals of Gaussians\n",
    "3. 因子分析模型 The Factor analysis model\n",
    "4. 在因子分析中应用EM算法 EM for Factor Analysis\n"
   ]
  },
  {
   "cell_type": "code",
   "execution_count": null,
   "metadata": {
    "collapsed": true
   },
   "outputs": [],
   "source": []
  }
 ],
 "metadata": {
  "kernelspec": {
   "display_name": "Python 3",
   "language": "python",
   "name": "python3"
  },
  "language_info": {
   "codemirror_mode": {
    "name": "ipython",
    "version": 3
   },
   "file_extension": ".py",
   "mimetype": "text/x-python",
   "name": "python",
   "nbconvert_exporter": "python",
   "pygments_lexer": "ipython3",
   "version": "3.6.1"
  }
 },
 "nbformat": 4,
 "nbformat_minor": 2
}
