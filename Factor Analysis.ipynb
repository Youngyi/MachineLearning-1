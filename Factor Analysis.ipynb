{
 "cells": [
  {
   "cell_type": "markdown",
   "metadata": {},
   "source": [
    "# 因子分析 Factor Analysis\n",
    "\n",
    "当有一组来自多个高斯分布的混合数据 $x^{(i)} \\in \\mathbb{R}^n$ 时，EM算法可以用来拟合高斯混合模型。这个问题中，通常假设拥有足够的数据，可以描绘出多个高斯分布的结构，严格来说，需要训练集大小 $m$ 显著地大于 数据维度 $n$。\n",
    "\n",
    "现在，考虑 $m \\gg m$ 的情况。这时，即便要拟合单个高斯模型，都是十分困难的，更不必说高斯混合模型。具体来看，由于 $m$ 个数据点稀疏地散布在较低的 $n$ 维空间中，假如要用高斯建模，并用最大似然估计法，估计均值和协方差，可得\n",
    "$$\n",
    "\\begin{split}\n",
    "\\mu &= \\frac{1}{m}\\sum_{i=1}^m x^{(i)} \\\\\n",
    "\\Sigma &= \\frac{1}{m}\\sum_{i=1}^m (x^{(i)} - \\mu)(x^{(i)} - \\mu)^T\n",
    "\\end{split}\n",
    "$$\n",
    "可以发现，求出的结果，$\\Sigma$ 是奇异矩阵，这意味着 $\\Sigma^{-1}$ 不存在，并且 $1/|\\Sigma|^{1/2}$ = 1/0，而这两项都需要用来计算多元高斯分布的概率密度。另一个困难点在于，最大似然估计法估计出的参数，会使得高斯分布的概率分布在数据的远交空间内。\n",
    "\n",
    "更广泛地说，除非 $m$ 比 $n$ 大出较多的数量，否则最大似然估计法估计出的参数会非常糟糕。然而，我们依然希望对数据给出高斯模型的比较好的拟合，甚至捕捉到数据中关于协方差的一些结构信息。这要怎么做？\n",
    "\n",
    "接下来，我们会首先增加两种可能的针对协方差的约束，使得可以用更小的数据集拟合 $\\Sigma$。但这两种方法都无法给出令人满意的解。于是，我们会引入一些关于高斯分析的特性——边缘分布和条件分布——这将用于构建因子分析模型，以及对应的EM算法。\n",
    "\n",
    "本节包含以下内容：\n",
    "1. $\\Sigma$ 的约束 Restrictions of $\\Sigma$\n",
    "2. 高斯分布的边缘分布和条件分布 Marginals and conditionals of Gaussians\n",
    "3. 因子分析模型 The Factor analysis model\n",
    "4. 在因子分析中应用EM算法 EM for Factor Analysis\n"
   ]
  },
  {
   "cell_type": "code",
   "execution_count": null,
   "metadata": {
    "collapsed": true
   },
   "outputs": [],
   "source": []
  }
 ],
 "metadata": {
  "kernelspec": {
   "display_name": "Python 3",
   "language": "python",
   "name": "python3"
  },
  "language_info": {
   "codemirror_mode": {
    "name": "ipython",
    "version": 3
   },
   "file_extension": ".py",
   "mimetype": "text/x-python",
   "name": "python",
   "nbconvert_exporter": "python",
   "pygments_lexer": "ipython3",
   "version": "3.6.1"
  }
 },
 "nbformat": 4,
 "nbformat_minor": 2
}
