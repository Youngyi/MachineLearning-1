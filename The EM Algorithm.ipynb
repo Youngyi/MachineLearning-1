{
 "cells": [
  {
   "cell_type": "markdown",
   "metadata": {},
   "source": [
    "# The EM Algorithm EM算法\n",
    "\n",
    "之前在讲高斯混合模型时，用到了EM算法。而EM算法实际是更加广泛的概念，专门用来解决包含隐含随机变量的估计问题。\n",
    "\n",
    "本节包含以下内容：\n",
    "1. Jensen's inequality Jensen不等式\n",
    "2. The EM Algorithm EM算法\n",
    "3. Mixture of Gaussians revisited 回顾高斯混合模型\n"
   ]
  },
  {
   "cell_type": "code",
   "execution_count": null,
   "metadata": {
    "collapsed": true
   },
   "outputs": [],
   "source": []
  }
 ],
 "metadata": {
  "kernelspec": {
   "display_name": "Python 3",
   "language": "python",
   "name": "python3"
  },
  "language_info": {
   "codemirror_mode": {
    "name": "ipython",
    "version": 3
   },
   "file_extension": ".py",
   "mimetype": "text/x-python",
   "name": "python",
   "nbconvert_exporter": "python",
   "pygments_lexer": "ipython3",
   "version": "3.6.1"
  }
 },
 "nbformat": 4,
 "nbformat_minor": 2
}
