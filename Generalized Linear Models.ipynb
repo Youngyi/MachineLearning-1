{
 "cells": [
  {
   "cell_type": "markdown",
   "metadata": {},
   "source": [
    "# 广义线性模型 Generalized Linear Models\n",
    "\n",
    "引入科学计算和绘图相关包："
   ]
  },
  {
   "cell_type": "code",
   "execution_count": 1,
   "metadata": {
    "collapsed": true
   },
   "outputs": [],
   "source": [
    "import numpy as np\n",
    "\n",
    "import matplotlib.pyplot as plt\n",
    "import seaborn as sns\n",
    "\n",
    "sns.set_style('whitegrid')\n",
    "%matplotlib inline"
   ]
  },
  {
   "cell_type": "markdown",
   "metadata": {},
   "source": [
    "在线性回归的例子中，我们假设 $y|x;\\theta \\sim N(\\mu, \\sigma^2)$；而对于逻辑回归，我们假设 $y|x;\\theta \\sim b(1, p)$，也即伯努利分布。本节我们将看到，这两个模型都是广义线性模型的一种特殊形式。\n",
    "\n",
    "本节包括以下内容：\n",
    "\n",
    "1. 指数分布族 The exponential family\n",
    "2. 构造广义线性模型 Constructing GLMs\n",
    "3. 最小二乘法 Ordinary Least Squares\n",
    "4. 逻辑回归 Logistic Regression\n",
    "5. Softmax回归 Softmax Regression"
   ]
  },
  {
   "cell_type": "code",
   "execution_count": null,
   "metadata": {
    "collapsed": true
   },
   "outputs": [],
   "source": []
  }
 ],
 "metadata": {
  "anaconda-cloud": {},
  "kernelspec": {
   "display_name": "Python [default]",
   "language": "python",
   "name": "python3"
  },
  "language_info": {
   "codemirror_mode": {
    "name": "ipython",
    "version": 3
   },
   "file_extension": ".py",
   "mimetype": "text/x-python",
   "name": "python",
   "nbconvert_exporter": "python",
   "pygments_lexer": "ipython3",
   "version": "3.5.2"
  }
 },
 "nbformat": 4,
 "nbformat_minor": 1
}
