{
 "cells": [
  {
   "cell_type": "markdown",
   "metadata": {},
   "source": [
    "# 主成分分析 Principal Components Analysis\n",
    "\n",
    "在讨论因子分析时，我们将数据 $x \\in \\mathbb{R}^n$ 建模为近似地处于较低的 $k$ 维空间中，$k \\ll m$。具体来说，我们假设每个点 $x^{(i)}$ 的生成过程，包含两个步骤，首先在 $k$ 维远交空间 $\\{ \\Lambda z + \\mu; z \\in \\mathbb{R}^k \\}$ 生成点 $z^{(i)}$，然后再增加协方差 $\\Psi$ 噪声。因子分析基于概率模型，然后使用迭代的EM算法来进行参数估计。\n",
    "\n",
    "而本节介绍的主成分分析，同样致力于将数据近似地降低到低维空间中。但是主成分分析更直接，仅需要计算特征向量，并不依赖于EM算法。"
   ]
  },
  {
   "cell_type": "code",
   "execution_count": null,
   "metadata": {
    "collapsed": true
   },
   "outputs": [],
   "source": []
  }
 ],
 "metadata": {
  "kernelspec": {
   "display_name": "Python 3",
   "language": "python",
   "name": "python3"
  },
  "language_info": {
   "codemirror_mode": {
    "name": "ipython",
    "version": 3
   },
   "file_extension": ".py",
   "mimetype": "text/x-python",
   "name": "python",
   "nbconvert_exporter": "python",
   "pygments_lexer": "ipython3",
   "version": "3.6.1"
  }
 },
 "nbformat": 4,
 "nbformat_minor": 2
}
