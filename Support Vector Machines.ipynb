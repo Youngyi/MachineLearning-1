{
 "cells": [
  {
   "cell_type": "markdown",
   "metadata": {},
   "source": [
    "# 支持向量机 Support Vector Machines\n",
    "\n",
    "本节包括以下内容：\n",
    "1. 间隔 Margin\n",
    "2. 记号 Notation\n",
    "3. 函数间隔和几何间隔 Functional and geometric margins\n",
    "4. 最大间隔分类器 The optimal margin classifier\n",
    "5. 拉格朗日对偶性 Lagrange duality\n",
    "6. 最大间隔分类器 Optimal margin classifier\n",
    "7. 核方法 Kernels\n",
    "8. 正则化、不可分的情况 Regularization and the non-separable case\n",
    "9. SMO算法 The SMO algorithm\n",
    "10. SMO\n"
   ]
  },
  {
   "cell_type": "markdown",
   "metadata": {
    "collapsed": true
   },
   "source": [
    "### 1. 间隔 Margin\n",
    "\n",
    "回忆线性回归，概率 $p(y=1|x; \\theta)$ 由 $h_\\theta(x) = g(\\theta^Tx)$ 计算而得。如果 $h_\\theta(x) \\geq 0.5$，则我们预测输入 $x$ 为正类，换言之，当且仅当 $\\theta^Tx \\geq 0$ 时，模型预测 $x$ 为正类。并且，根据我们的概率假设，$\\theta^Tx$ 越大，$x$ 取正类的概率就越大，或者说，我们对于预测 $x$ 为正类的信心就越大。\n",
    "\n",
    "也就是说，如果 $\\theta^Tx \\gg 0$，那么我们可以非常自信地预测 $y=1$。类似的，如果 $\\theta^Tx \\ll 0$，则我们可以非常自信地预测 $y=0$。直觉上看，如果我们的成本函数考虑这一点，那么我们可以得到一个不错的分类器。对此，稍后我们将会引入函数间隔的概念。\n",
    "\n",
    "换一种思路来看，$\\theta^Tx=0$ 代表决策边界（也称为**分割超平面 separating hyperplane**），离决策边界越远的点，我们对准确预测其分类的信心越大。直觉上看，在数据集线性可分的前提下，在所有决策边界集合中，使得样本点尽可能远离的决策边界，通常代表着更好的模型。对此，稍后我们会引入几何间隔的概念。"
   ]
  },
  {
   "cell_type": "markdown",
   "metadata": {
    "collapsed": true
   },
   "source": [
    "### 2. 记号 Notation\n",
    "\n",
    "对于支持向量机，我们将引入和广义线性模型所不同的符号来阐述二元分类问题。给定标签 $y$ 和特征 $x$，令 $y \\in \\{-1, 1\\}$（而不是 $\\{0, 1\\}$），同时我们不再使用 $\\theta$ 作为参数向量，而是使用 $w, b$ 来描述分类器\n",
    "$$ h_{w, b}(x) = g(w^Tx + b) $$\n",
    "\n",
    "这里，当 $z \\geq 0$ 时，$g(z)=1$，否则 $g(z) = -1$。$w, b$ 的记号，使我们将截距项 $b$ 从其它参数独立出来，从而我们也不需要再假定 $x_0=1$，因而这里 $x$ 是 $n$ 维向量，而不是 $n+1$ 维向量。也就是说，$b$ 就是之前的 $\\theta_0$，而 $w$ 是之前的 $[\\theta_1...\\theta_n]^T$\n",
    "\n",
    "注意到，根据我们对 $g$ 的上述定义，我们的分类器将直接预测 $1$ 或 $-1$（类比感知器），而不再需要和逻辑回归一样，包含预测 $y=1$ 的概率这个中间步骤。"
   ]
  },
  {
   "cell_type": "code",
   "execution_count": null,
   "metadata": {
    "collapsed": true
   },
   "outputs": [],
   "source": []
  }
 ],
 "metadata": {
  "kernelspec": {
   "display_name": "Python 3",
   "language": "python",
   "name": "python3"
  },
  "language_info": {
   "codemirror_mode": {
    "name": "ipython",
    "version": 3
   },
   "file_extension": ".py",
   "mimetype": "text/x-python",
   "name": "python",
   "nbconvert_exporter": "python",
   "pygments_lexer": "ipython3",
   "version": "3.6.1"
  }
 },
 "nbformat": 4,
 "nbformat_minor": 2
}
